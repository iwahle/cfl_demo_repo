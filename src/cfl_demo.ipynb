{
 "cells": [
  {
   "cell_type": "code",
   "execution_count": 1,
   "metadata": {},
   "outputs": [],
   "source": [
    "import numpy as np\n",
    "import matplotlib.pyplot as plt\n",
    "from params import * # all params stored in params.py\n",
    "from cfl.experiment import Experiment"
   ]
  },
  {
   "cell_type": "code",
   "execution_count": 2,
   "metadata": {},
   "outputs": [],
   "source": [
    "# constants\n",
    "data_series = 'dataset1'"
   ]
  },
  {
   "cell_type": "code",
   "execution_count": 3,
   "metadata": {},
   "outputs": [
    {
     "name": "stdout",
     "output_type": "stream",
     "text": [
      "(10000, 5)\n",
      "(10000, 3)\n"
     ]
    }
   ],
   "source": [
    "# load data\n",
    "X = np.load(os.path.join(DATA_PATH, data_series, 'X.npy'))\n",
    "Y = np.load(os.path.join(DATA_PATH, data_series, 'Y.npy'))\n",
    "print(X.shape)\n",
    "print(Y.shape)"
   ]
  },
  {
   "cell_type": "code",
   "execution_count": 4,
   "metadata": {},
   "outputs": [
    {
     "name": "stdout",
     "output_type": "stream",
     "text": [
      "[False False False False False]\n",
      "[False False False]\n"
     ]
    }
   ],
   "source": [
    "# check if any columns have nans (CFL cannot handle missing entries!)\n",
    "print(np.isnan(X).any(axis=0))\n",
    "print(np.isnan(Y).any(axis=0))\n",
    "# looks like we have complete data - we're good to go!"
   ]
  },
  {
   "cell_type": "code",
   "execution_count": 5,
   "metadata": {},
   "outputs": [],
   "source": [
    "# Before training, it is good practice to either z-score your data or scale it \n",
    "# to a 0-1 range for two reasons: 1) neural network training is more efficient\n",
    "# with lower input value ranges, and 2) if features in the data are measuring\n",
    "# distinct quantities (and are therefore measured on distinct ranges), we want\n",
    "# to give all features an equal weight in the learning process. \n",
    "\n",
    "# z-score each column\n",
    "X = X - np.mean(X, axis=0)\n",
    "X = X / np.std(X, axis=0)\n",
    "\n",
    "Y = Y - np.mean(Y, axis=0)\n",
    "Y = Y / np.std(Y, axis=0)"
   ]
  },
  {
   "cell_type": "code",
   "execution_count": 6,
   "metadata": {},
   "outputs": [
    {
     "name": "stdout",
     "output_type": "stream",
     "text": [
      "All results from this run will be saved to /Users/imanwahle/Desktop/cfl_demo_repo/results/experiment0003\n",
      "weights_path not specified in input, defaulting to None\n",
      "optuna_callback not specified in input, defaulting to None\n",
      "optuna_trial not specified in input, defaulting to None\n",
      "early_stopping not specified in input, defaulting to False\n"
     ]
    },
    {
     "name": "stderr",
     "output_type": "stream",
     "text": [
      "2022-02-01 15:46:19.284313: I tensorflow/core/platform/cpu_feature_guard.cc:151] This TensorFlow binary is optimized with oneAPI Deep Neural Network Library (oneDNN) to use the following CPU instructions in performance-critical operations:  AVX2 FMA\n",
      "To enable them in other operations, rebuild TensorFlow with the appropriate compiler flags.\n"
     ]
    }
   ],
   "source": [
    "# block_names indicates which CDE and clustering models to use\n",
    "block_names = ['CondDensityEstimator', 'CauseClusterer', 'EffectClusterer']\n",
    "\n",
    "# block_params is aligned to block_names (these are stored in params.py)\n",
    "block_params = [CDE_PARAMS, CCLUSTER_PARAMS, ECLUSTER_PARAMS]\n",
    "\n",
    "# Create a new CFL experiment with specified parameters\n",
    "my_exp = Experiment(X_train=X, Y_train=Y, data_info=DATA_INFO, \n",
    "                    block_names=block_names, block_params=block_params, \n",
    "                    results_path=RESULTS_PATH)"
   ]
  },
  {
   "cell_type": "code",
   "execution_count": 7,
   "metadata": {},
   "outputs": [
    {
     "name": "stdout",
     "output_type": "stream",
     "text": [
      "#################### Beginning CFL Experiment training. ####################\n",
      "Beginning CondDensityEstimator training...\n",
      "No GPU device detected.\n",
      "Epoch 1/80\n",
      "235/235 [==============================] - 3s 8ms/step - loss: 1.1869 - val_loss: 0.9997\n",
      "Epoch 2/80\n",
      "235/235 [==============================] - 2s 8ms/step - loss: 0.8310 - val_loss: 0.6967\n",
      "Epoch 3/80\n",
      "235/235 [==============================] - 1s 4ms/step - loss: 0.5720 - val_loss: 0.4705\n",
      "Epoch 4/80\n",
      "235/235 [==============================] - 1s 4ms/step - loss: 0.3773 - val_loss: 0.3007\n",
      "Epoch 5/80\n",
      "235/235 [==============================] - 1s 3ms/step - loss: 0.2351 - val_loss: 0.1813\n",
      "Epoch 6/80\n",
      "235/235 [==============================] - 1s 4ms/step - loss: 0.1386 - val_loss: 0.1044\n",
      "Epoch 7/80\n",
      "235/235 [==============================] - 1s 3ms/step - loss: 0.0800 - val_loss: 0.0610\n",
      "Epoch 8/80\n",
      "235/235 [==============================] - 1s 3ms/step - loss: 0.0487 - val_loss: 0.0394\n",
      "Epoch 9/80\n",
      "235/235 [==============================] - 1s 3ms/step - loss: 0.0338 - val_loss: 0.0295\n",
      "Epoch 10/80\n",
      "235/235 [==============================] - 1s 3ms/step - loss: 0.0268 - val_loss: 0.0246\n",
      "Epoch 11/80\n",
      "235/235 [==============================] - 1s 4ms/step - loss: 0.0230 - val_loss: 0.0216\n",
      "Epoch 12/80\n",
      "235/235 [==============================] - 1s 4ms/step - loss: 0.0205 - val_loss: 0.0194\n",
      "Epoch 13/80\n",
      "235/235 [==============================] - 1s 5ms/step - loss: 0.0186 - val_loss: 0.0177\n",
      "Epoch 14/80\n",
      "235/235 [==============================] - 1s 6ms/step - loss: 0.0170 - val_loss: 0.0163\n",
      "Epoch 15/80\n",
      "235/235 [==============================] - 1s 4ms/step - loss: 0.0157 - val_loss: 0.0152\n",
      "Epoch 16/80\n",
      "235/235 [==============================] - 1s 5ms/step - loss: 0.0147 - val_loss: 0.0142\n",
      "Epoch 17/80\n",
      "235/235 [==============================] - 1s 3ms/step - loss: 0.0139 - val_loss: 0.0135\n",
      "Epoch 18/80\n",
      "235/235 [==============================] - 1s 4ms/step - loss: 0.0132 - val_loss: 0.0129\n",
      "Epoch 19/80\n",
      "235/235 [==============================] - 1s 3ms/step - loss: 0.0127 - val_loss: 0.0125\n",
      "Epoch 20/80\n",
      "235/235 [==============================] - 1s 3ms/step - loss: 0.0123 - val_loss: 0.0121\n",
      "Epoch 21/80\n",
      "235/235 [==============================] - 1s 3ms/step - loss: 0.0119 - val_loss: 0.0118\n",
      "Epoch 22/80\n",
      "235/235 [==============================] - 1s 3ms/step - loss: 0.0116 - val_loss: 0.0115\n",
      "Epoch 23/80\n",
      "235/235 [==============================] - 1s 3ms/step - loss: 0.0114 - val_loss: 0.0112\n",
      "Epoch 24/80\n",
      "235/235 [==============================] - 1s 4ms/step - loss: 0.0111 - val_loss: 0.0110\n",
      "Epoch 25/80\n",
      "235/235 [==============================] - 1s 6ms/step - loss: 0.0109 - val_loss: 0.0108\n",
      "Epoch 26/80\n",
      "235/235 [==============================] - 1s 3ms/step - loss: 0.0107 - val_loss: 0.0106\n",
      "Epoch 27/80\n",
      "235/235 [==============================] - 1s 3ms/step - loss: 0.0105 - val_loss: 0.0104\n",
      "Epoch 28/80\n",
      "235/235 [==============================] - 1s 3ms/step - loss: 0.0103 - val_loss: 0.0102\n",
      "Epoch 29/80\n",
      "235/235 [==============================] - 1s 3ms/step - loss: 0.0102 - val_loss: 0.0100\n",
      "Epoch 30/80\n",
      "235/235 [==============================] - 1s 3ms/step - loss: 0.0100 - val_loss: 0.0099\n",
      "Epoch 31/80\n",
      "235/235 [==============================] - 1s 3ms/step - loss: 0.0098 - val_loss: 0.0097\n",
      "Epoch 32/80\n",
      "235/235 [==============================] - 1s 3ms/step - loss: 0.0097 - val_loss: 0.0096\n",
      "Epoch 33/80\n",
      "235/235 [==============================] - 1s 3ms/step - loss: 0.0095 - val_loss: 0.0094\n",
      "Epoch 34/80\n",
      "235/235 [==============================] - 1s 3ms/step - loss: 0.0094 - val_loss: 0.0093\n",
      "Epoch 35/80\n",
      "235/235 [==============================] - 1s 3ms/step - loss: 0.0093 - val_loss: 0.0092\n",
      "Epoch 36/80\n",
      "235/235 [==============================] - 1s 3ms/step - loss: 0.0091 - val_loss: 0.0090\n",
      "Epoch 37/80\n",
      "235/235 [==============================] - 1s 3ms/step - loss: 0.0090 - val_loss: 0.0089\n",
      "Epoch 38/80\n",
      "235/235 [==============================] - 1s 3ms/step - loss: 0.0089 - val_loss: 0.0088\n",
      "Epoch 39/80\n",
      "235/235 [==============================] - 1s 3ms/step - loss: 0.0088 - val_loss: 0.0087\n",
      "Epoch 40/80\n",
      "235/235 [==============================] - 1s 3ms/step - loss: 0.0087 - val_loss: 0.0086\n",
      "Epoch 41/80\n",
      "235/235 [==============================] - 1s 3ms/step - loss: 0.0086 - val_loss: 0.0085\n",
      "Epoch 42/80\n",
      "235/235 [==============================] - 1s 3ms/step - loss: 0.0085 - val_loss: 0.0084\n",
      "Epoch 43/80\n",
      "235/235 [==============================] - 1s 3ms/step - loss: 0.0084 - val_loss: 0.0084\n",
      "Epoch 44/80\n",
      "235/235 [==============================] - 1s 3ms/step - loss: 0.0083 - val_loss: 0.0083\n",
      "Epoch 45/80\n",
      "235/235 [==============================] - 1s 4ms/step - loss: 0.0083 - val_loss: 0.0082\n",
      "Epoch 46/80\n",
      "235/235 [==============================] - 1s 3ms/step - loss: 0.0082 - val_loss: 0.0081\n",
      "Epoch 47/80\n",
      "235/235 [==============================] - 1s 3ms/step - loss: 0.0081 - val_loss: 0.0081\n",
      "Epoch 48/80\n",
      "235/235 [==============================] - 1s 3ms/step - loss: 0.0081 - val_loss: 0.0080\n",
      "Epoch 49/80\n",
      "235/235 [==============================] - 1s 4ms/step - loss: 0.0080 - val_loss: 0.0080\n",
      "Epoch 50/80\n",
      "235/235 [==============================] - 1s 3ms/step - loss: 0.0079 - val_loss: 0.0079\n",
      "Epoch 51/80\n",
      "235/235 [==============================] - 1s 4ms/step - loss: 0.0079 - val_loss: 0.0078\n",
      "Epoch 52/80\n",
      "235/235 [==============================] - 1s 3ms/step - loss: 0.0078 - val_loss: 0.0078\n",
      "Epoch 53/80\n",
      "235/235 [==============================] - 1s 5ms/step - loss: 0.0078 - val_loss: 0.0078\n",
      "Epoch 54/80\n",
      "235/235 [==============================] - 1s 3ms/step - loss: 0.0077 - val_loss: 0.0077\n",
      "Epoch 55/80\n",
      "235/235 [==============================] - 1s 4ms/step - loss: 0.0077 - val_loss: 0.0077\n",
      "Epoch 56/80\n",
      "235/235 [==============================] - 1s 4ms/step - loss: 0.0076 - val_loss: 0.0076\n",
      "Epoch 57/80\n",
      "235/235 [==============================] - 1s 5ms/step - loss: 0.0076 - val_loss: 0.0076\n",
      "Epoch 58/80\n",
      "235/235 [==============================] - 2s 7ms/step - loss: 0.0076 - val_loss: 0.0076\n",
      "Epoch 59/80\n",
      "235/235 [==============================] - 1s 5ms/step - loss: 0.0075 - val_loss: 0.0075\n",
      "Epoch 60/80\n",
      "235/235 [==============================] - 1s 6ms/step - loss: 0.0075 - val_loss: 0.0075\n",
      "Epoch 61/80\n",
      "235/235 [==============================] - 1s 6ms/step - loss: 0.0075 - val_loss: 0.0075\n",
      "Epoch 62/80\n",
      "235/235 [==============================] - 1s 4ms/step - loss: 0.0074 - val_loss: 0.0074\n",
      "Epoch 63/80\n",
      "235/235 [==============================] - 1s 5ms/step - loss: 0.0074 - val_loss: 0.0074\n",
      "Epoch 64/80\n",
      "235/235 [==============================] - 2s 8ms/step - loss: 0.0074 - val_loss: 0.0074\n",
      "Epoch 65/80\n",
      "235/235 [==============================] - 1s 5ms/step - loss: 0.0073 - val_loss: 0.0073\n",
      "Epoch 66/80\n",
      "235/235 [==============================] - 1s 5ms/step - loss: 0.0073 - val_loss: 0.0073\n",
      "Epoch 67/80\n",
      "235/235 [==============================] - 1s 5ms/step - loss: 0.0073 - val_loss: 0.0073\n",
      "Epoch 68/80\n",
      "235/235 [==============================] - 1s 5ms/step - loss: 0.0072 - val_loss: 0.0073\n",
      "Epoch 69/80\n",
      "235/235 [==============================] - 3s 11ms/step - loss: 0.0072 - val_loss: 0.0072\n",
      "Epoch 70/80\n",
      "235/235 [==============================] - 2s 10ms/step - loss: 0.0072 - val_loss: 0.0072\n",
      "Epoch 71/80\n",
      "235/235 [==============================] - 4s 15ms/step - loss: 0.0072 - val_loss: 0.0072\n",
      "Epoch 72/80\n",
      "235/235 [==============================] - 3s 13ms/step - loss: 0.0072 - val_loss: 0.0072\n",
      "Epoch 73/80\n",
      "235/235 [==============================] - 2s 10ms/step - loss: 0.0071 - val_loss: 0.0072\n",
      "Epoch 74/80\n",
      "235/235 [==============================] - 2s 8ms/step - loss: 0.0071 - val_loss: 0.0072\n",
      "Epoch 75/80\n",
      "235/235 [==============================] - 2s 10ms/step - loss: 0.0071 - val_loss: 0.0071\n",
      "Epoch 76/80\n",
      "235/235 [==============================] - 2s 9ms/step - loss: 0.0071 - val_loss: 0.0071\n",
      "Epoch 77/80\n",
      "235/235 [==============================] - 3s 13ms/step - loss: 0.0071 - val_loss: 0.0071\n",
      "Epoch 78/80\n",
      "235/235 [==============================] - 3s 11ms/step - loss: 0.0070 - val_loss: 0.0071\n",
      "Epoch 79/80\n",
      "235/235 [==============================] - 2s 8ms/step - loss: 0.0070 - val_loss: 0.0071\n",
      "Epoch 80/80\n",
      "235/235 [==============================] - 2s 10ms/step - loss: 0.0070 - val_loss: 0.0070\n"
     ]
    },
    {
     "data": {
      "image/png": "[encoded data removed]",
      "text/plain": [
       "<Figure size 432x288 with 1 Axes>"
      ]
     },
     "metadata": {
      "needs_background": "light"
     },
     "output_type": "display_data"
    },
    {
     "name": "stdout",
     "output_type": "stream",
     "text": [
      "Loading parameters from  tmp_checkpoints01022022154619/best_weights\n",
      "Saving parameters to  /Users/imanwahle/Desktop/cfl_demo_repo/results/experiment0003/trained_blocks/CondDensityEstimator\n",
      "CondDensityEstimator training complete.\n",
      "Beginning CauseClusterer training...\n",
      "CauseClusterer training complete.\n",
      "Beginning EffectClusterer training...\n"
     ]
    },
    {
     "name": "stderr",
     "output_type": "stream",
     "text": [
      "100%|██████████| 10000/10000 [00:01<00:00, 8766.17it/s]\n"
     ]
    },
    {
     "name": "stdout",
     "output_type": "stream",
     "text": [
      "EffectClusterer training complete.\n",
      "Experiment training complete.\n"
     ]
    }
   ],
   "source": [
    "train_results = my_exp.train()\n",
    "# note: if `tb_path` is specified in CDE_PARAMS, you can watch training \n",
    "# performance in real-time using tensorboard: `tensorboard --logdir logs`"
   ]
  },
  {
   "cell_type": "code",
   "execution_count": 8,
   "metadata": {},
   "outputs": [],
   "source": [
    "xlbls = train_results['CauseClusterer']['x_lbls']\n",
    "ylbls = train_results['EffectClusterer']['y_lbls']\n",
    "uxlbls = np.unique(xlbls)\n",
    "uylbls = np.unique(ylbls)"
   ]
  },
  {
   "cell_type": "code",
   "execution_count": 9,
   "metadata": {},
   "outputs": [
    {
     "data": {
      "image/png": "[encoded data removed]",
      "text/plain": [
       "<Figure size 2160x216 with 5 Axes>"
      ]
     },
     "metadata": {
      "needs_background": "light"
     },
     "output_type": "display_data"
    }
   ],
   "source": [
    "fig,axs = plt.subplots(1,5,figsize=(30,3))\n",
    "for i,ax in enumerate(axs.ravel()):\n",
    "    for ui,ulbl in enumerate(uxlbls):\n",
    "        ax.hist(X[xlbls==ulbl,i],histtype='step')\n",
    "plt.legend([f'C-MS {i+1}' for i in uxlbls])\n",
    "plt.show()    "
   ]
  },
  {
   "cell_type": "code",
   "execution_count": 10,
   "metadata": {},
   "outputs": [
    {
     "data": {
      "image/png": "[encoded data removed]",
      "text/plain": [
       "<Figure size 1440x216 with 3 Axes>"
      ]
     },
     "metadata": {
      "needs_background": "light"
     },
     "output_type": "display_data"
    }
   ],
   "source": [
    "fig,axs = plt.subplots(1,3,figsize=(20,3))\n",
    "for i,ax in enumerate(axs.ravel()):\n",
    "    for ui,ulbl in enumerate(uylbls):\n",
    "        ax.hist(Y[ylbls==ulbl,i],histtype='step')\n",
    "plt.legend([f'E-MS {i+1}' for i in uylbls])\n",
    "plt.show()    "
   ]
  }
 ],
 "metadata": {
  "interpreter": {
   "hash": "69d37926f31da036b9e181c1fd93106ea5dd0a8ffef9c05cae4593d693b5d3dd"
  },
  "kernelspec": {
   "display_name": "cfl-optuna",
   "language": "python",
   "name": "python3"
  },
  "language_info": {
   "codemirror_mode": {
    "name": "ipython",
    "version": 3
   },
   "file_extension": ".py",
   "mimetype": "text/x-python",
   "name": "python",
   "nbconvert_exporter": "python",
   "pygments_lexer": "ipython3",
   "version": "3.8.12"
  },
  "orig_nbformat": 4
 },
 "nbformat": 4,
 "nbformat_minor": 2
}
